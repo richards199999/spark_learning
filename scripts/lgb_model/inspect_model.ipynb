{
 "cells": [
  {
   "cell_type": "code",
   "metadata": {
    "collapsed": true,
    "ExecuteTime": {
     "end_time": "2024-07-23T13:19:26.695091Z",
     "start_time": "2024-07-23T13:19:26.689404Z"
    }
   },
   "source": [
    "from spark_learning.lgbm import get_feature_importance\n",
    "from spark_learning.utils.models import load_model"
   ],
   "outputs": [],
   "execution_count": 2
  },
  {
   "cell_type": "code",
   "metadata": {
    "collapsed": false,
    "ExecuteTime": {
     "end_time": "2024-07-23T13:19:26.730586Z",
     "start_time": "2024-07-23T13:19:26.696099Z"
    }
   },
   "source": [
    "model = load_model(\"lgb.dill\")\n",
    "get_feature_importance(model)"
   ],
   "outputs": [
    {
     "data": {
      "text/plain": [
       "entity_country       0\n",
       "entity_region        0\n",
       "genre              570\n",
       "sub_genre          302\n",
       "tag_list           721\n",
       "developer_id       833\n",
       "developer          796\n",
       "publisher_id       478\n",
       "publisher          315\n",
       "wishlist_rank      365\n",
       "followers_total    120\n",
       "dtype: int32"
      ]
     },
     "execution_count": 3,
     "metadata": {},
     "output_type": "execute_result"
    }
   ],
   "execution_count": 3
  }
 ],
 "metadata": {
  "kernelspec": {
   "display_name": "Python 3",
   "language": "python",
   "name": "python3"
  },
  "language_info": {
   "codemirror_mode": {
    "name": "ipython",
    "version": 2
   },
   "file_extension": ".py",
   "mimetype": "text/x-python",
   "name": "python",
   "nbconvert_exporter": "python",
   "pygments_lexer": "ipython2",
   "version": "2.7.6"
  }
 },
 "nbformat": 4,
 "nbformat_minor": 0
}
