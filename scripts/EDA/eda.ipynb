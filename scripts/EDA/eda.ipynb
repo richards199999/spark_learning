{
 "cells": [
  {
   "cell_type": "code",
   "execution_count": 4,
   "metadata": {
    "collapsed": true,
    "ExecuteTime": {
     "end_time": "2024-07-08T03:17:52.816946Z",
     "start_time": "2024-07-08T03:17:52.810115Z"
    }
   },
   "outputs": [],
   "source": [
    "import pandas as pd"
   ]
  },
  {
   "cell_type": "code",
   "execution_count": 5,
   "metadata": {
    "collapsed": false,
    "ExecuteTime": {
     "end_time": "2024-07-08T03:19:16.236763Z",
     "start_time": "2024-07-08T03:17:52.832632Z"
    }
   },
   "outputs": [
    {
     "data": {
      "text/plain": "        EA_acu  EA_pcu    EA_time                developer  followers_total  \\\n0          0.0  1645.0 2016-10-05                Hangar 13              0.0   \n1          0.0    80.0 2015-07-29          Digitalmindsoft              0.0   \n2          0.0  1410.0 2014-08-01     Brilliant Skies Ltd.              0.0   \n3          0.0    54.0 2017-12-30                Dandylion              0.0   \n4          0.0    22.0 2015-05-27  Lighthouse Games Studio              0.0   \n...        ...     ...        ...                      ...              ...   \n154283     0.0    15.0 2015-01-22         Reakktor Studios              0.0   \n154284     0.0    15.0 2019-09-05   Little Green Men Games              0.0   \n154285     0.0    15.0 2017-04-19          Angry Mob Games              0.0   \n154286     0.0    15.0 2015-12-08           Terminal Press              0.0   \n154287     0.0    15.0 2016-04-29           Coronado Games              0.0   \n\n        is_release                                        description  \\\n0                1  Mafia III: Definitive Edition includes the mai...   \n1                1  Call to Arms offers an innovative mix of real-...   \n2                1  SummaryIn From the Depths you can build and ta...   \n3                1  Everything that SRPG could possibly beTROUBLES...   \n4                1  Shark Attack Deathmatch 2 captures the thrill ...   \n...            ...                                                ...   \n154283           1  FRAG LIKE IT'S 1999TOXIKK™ plays as if today's...   \n154284           1  Step into the laid-back shoes of captain Jonat...   \n154285           1  A new challenger has appeared in the platform ...   \n154286           1  Death Goat is a bloody arcade shooter featurin...   \n154287           1  Starship Corporation is a starship-building si...   \n\n       entity_region  EA_units_sold                          developer_id  \\\n0             global          486.0  aab276cc-39ef-440b-b422-ff65c50a4a52   \n1             global          412.0  3aaebbb2-6a06-4bc1-94f5-1ff294155914   \n2             global          150.0  ed884bba-8518-479a-a38a-6bdf610040f6   \n3             global           30.0  1341f6f8-d4c1-11ec-9bb0-525400d129b6   \n4             global           40.0  597807b4-1fca-4848-86e2-8038ef9b90cc   \n...              ...            ...                                   ...   \n154283        global            0.0  0a4abc7e-3b55-468f-a9be-140cefce091c   \n154284        global           30.0  a5cafe3c-d4be-11ec-9bb0-525400d129b6   \n154285        global            0.0  d470dc9c-c6b8-8ce7-379b-a44140af1998   \n154286        global            0.0  115c6832-d4c1-11ec-9bb0-525400d129b6   \n154287        global            0.0  ff4ffabf-aecc-4d0c-9a28-464ad0920397   \n\n        ...                                        steam_genre  entity_type  \\\n0       ...  Racing|Action|Shooter|Action Games|Open World|...        steam   \n1       ...          Real-Time Tactics|Strategy|Strategy Games        steam   \n2       ...           Action Games|Simulation|Sandbox|Strategy        steam   \n3       ...  Casual Games|TROUBLESHOOTER: Abandoned Childre...        steam   \n4       ...                                       Action Games        steam   \n...     ...                                                ...          ...   \n154283  ...            Action Games|FPS|Vehicle Combat|Shooter        steam   \n154284  ...    Action|Simulation|Sci-fi|RPG Games|RPG|Strategy        steam   \n154285  ...      Indie|Arcade|Indie Games|2D Fighting|Fighting        steam   \n154286  ...                                 Action Games|Indie        steam   \n154287  ...                    Simulation|Strategy|Indie Games        steam   \n\n       entity_country       date                         entity_name  \\\n0              global 2017-10-22       Mafia III: Definitive Edition   \n1              global 2015-12-14                        Call to Arms   \n2              global 2015-11-08                     From the Depths   \n3              global 2018-08-18  TROUBLESHOOTER: Abandoned Children   \n4              global 2016-02-14           Shark Attack Deathmatch 2   \n...               ...        ...                                 ...   \n154283         global 2015-12-13                              TOXIKK   \n154284         global 2020-04-17                  Starpoint Gemini 3   \n154285         global 2017-08-25                            Brawlout   \n154286         global 2016-02-07                          Death Goat   \n154287         global 2016-07-02                Starship Corporation   \n\n       EA_revenue  release_time     pheat developer_revenue_p1_year  \\\n0         15548.0    2020-05-20  8.086718                32355072.0   \n1          6589.0    2018-04-27  0.000000                 5615906.0   \n2          2399.0    2020-11-07  6.962243                  338769.0   \n3           480.0    2020-04-23  6.919684                  181707.0   \n4           160.0    2019-07-26  2.833213                   43858.0   \n...           ...           ...       ...                       ...   \n154283        0.0    2016-09-11  7.407318                 1244943.0   \n154284      600.0    2020-11-06  5.370638                 1079021.0   \n154285        0.0    2018-08-21  3.526361                   79199.0   \n154286        0.0    2016-06-08  5.332719                    8402.0   \n154287        0.0    2018-05-03  0.000000                   76018.0   \n\n       publisher_revenue_p1_year  \n0                     45040557.0  \n1                      5615906.0  \n2                       338769.0  \n3                       181707.0  \n4                        43858.0  \n...                          ...  \n154283                 1244943.0  \n154284                 1079021.0  \n154285                   79199.0  \n154286                    8402.0  \n154287                 2176198.0  \n\n[154288 rows x 29 columns]",
      "text/html": "<div>\n<style scoped>\n    .dataframe tbody tr th:only-of-type {\n        vertical-align: middle;\n    }\n\n    .dataframe tbody tr th {\n        vertical-align: top;\n    }\n\n    .dataframe thead th {\n        text-align: right;\n    }\n</style>\n<table border=\"1\" class=\"dataframe\">\n  <thead>\n    <tr style=\"text-align: right;\">\n      <th></th>\n      <th>EA_acu</th>\n      <th>EA_pcu</th>\n      <th>EA_time</th>\n      <th>developer</th>\n      <th>followers_total</th>\n      <th>is_release</th>\n      <th>description</th>\n      <th>entity_region</th>\n      <th>EA_units_sold</th>\n      <th>developer_id</th>\n      <th>...</th>\n      <th>steam_genre</th>\n      <th>entity_type</th>\n      <th>entity_country</th>\n      <th>date</th>\n      <th>entity_name</th>\n      <th>EA_revenue</th>\n      <th>release_time</th>\n      <th>pheat</th>\n      <th>developer_revenue_p1_year</th>\n      <th>publisher_revenue_p1_year</th>\n    </tr>\n  </thead>\n  <tbody>\n    <tr>\n      <th>0</th>\n      <td>0.0</td>\n      <td>1645.0</td>\n      <td>2016-10-05</td>\n      <td>Hangar 13</td>\n      <td>0.0</td>\n      <td>1</td>\n      <td>Mafia III: Definitive Edition includes the mai...</td>\n      <td>global</td>\n      <td>486.0</td>\n      <td>aab276cc-39ef-440b-b422-ff65c50a4a52</td>\n      <td>...</td>\n      <td>Racing|Action|Shooter|Action Games|Open World|...</td>\n      <td>steam</td>\n      <td>global</td>\n      <td>2017-10-22</td>\n      <td>Mafia III: Definitive Edition</td>\n      <td>15548.0</td>\n      <td>2020-05-20</td>\n      <td>8.086718</td>\n      <td>32355072.0</td>\n      <td>45040557.0</td>\n    </tr>\n    <tr>\n      <th>1</th>\n      <td>0.0</td>\n      <td>80.0</td>\n      <td>2015-07-29</td>\n      <td>Digitalmindsoft</td>\n      <td>0.0</td>\n      <td>1</td>\n      <td>Call to Arms offers an innovative mix of real-...</td>\n      <td>global</td>\n      <td>412.0</td>\n      <td>3aaebbb2-6a06-4bc1-94f5-1ff294155914</td>\n      <td>...</td>\n      <td>Real-Time Tactics|Strategy|Strategy Games</td>\n      <td>steam</td>\n      <td>global</td>\n      <td>2015-12-14</td>\n      <td>Call to Arms</td>\n      <td>6589.0</td>\n      <td>2018-04-27</td>\n      <td>0.000000</td>\n      <td>5615906.0</td>\n      <td>5615906.0</td>\n    </tr>\n    <tr>\n      <th>2</th>\n      <td>0.0</td>\n      <td>1410.0</td>\n      <td>2014-08-01</td>\n      <td>Brilliant Skies Ltd.</td>\n      <td>0.0</td>\n      <td>1</td>\n      <td>SummaryIn From the Depths you can build and ta...</td>\n      <td>global</td>\n      <td>150.0</td>\n      <td>ed884bba-8518-479a-a38a-6bdf610040f6</td>\n      <td>...</td>\n      <td>Action Games|Simulation|Sandbox|Strategy</td>\n      <td>steam</td>\n      <td>global</td>\n      <td>2015-11-08</td>\n      <td>From the Depths</td>\n      <td>2399.0</td>\n      <td>2020-11-07</td>\n      <td>6.962243</td>\n      <td>338769.0</td>\n      <td>338769.0</td>\n    </tr>\n    <tr>\n      <th>3</th>\n      <td>0.0</td>\n      <td>54.0</td>\n      <td>2017-12-30</td>\n      <td>Dandylion</td>\n      <td>0.0</td>\n      <td>1</td>\n      <td>Everything that SRPG could possibly beTROUBLES...</td>\n      <td>global</td>\n      <td>30.0</td>\n      <td>1341f6f8-d4c1-11ec-9bb0-525400d129b6</td>\n      <td>...</td>\n      <td>Casual Games|TROUBLESHOOTER: Abandoned Childre...</td>\n      <td>steam</td>\n      <td>global</td>\n      <td>2018-08-18</td>\n      <td>TROUBLESHOOTER: Abandoned Children</td>\n      <td>480.0</td>\n      <td>2020-04-23</td>\n      <td>6.919684</td>\n      <td>181707.0</td>\n      <td>181707.0</td>\n    </tr>\n    <tr>\n      <th>4</th>\n      <td>0.0</td>\n      <td>22.0</td>\n      <td>2015-05-27</td>\n      <td>Lighthouse Games Studio</td>\n      <td>0.0</td>\n      <td>1</td>\n      <td>Shark Attack Deathmatch 2 captures the thrill ...</td>\n      <td>global</td>\n      <td>40.0</td>\n      <td>597807b4-1fca-4848-86e2-8038ef9b90cc</td>\n      <td>...</td>\n      <td>Action Games</td>\n      <td>steam</td>\n      <td>global</td>\n      <td>2016-02-14</td>\n      <td>Shark Attack Deathmatch 2</td>\n      <td>160.0</td>\n      <td>2019-07-26</td>\n      <td>2.833213</td>\n      <td>43858.0</td>\n      <td>43858.0</td>\n    </tr>\n    <tr>\n      <th>...</th>\n      <td>...</td>\n      <td>...</td>\n      <td>...</td>\n      <td>...</td>\n      <td>...</td>\n      <td>...</td>\n      <td>...</td>\n      <td>...</td>\n      <td>...</td>\n      <td>...</td>\n      <td>...</td>\n      <td>...</td>\n      <td>...</td>\n      <td>...</td>\n      <td>...</td>\n      <td>...</td>\n      <td>...</td>\n      <td>...</td>\n      <td>...</td>\n      <td>...</td>\n      <td>...</td>\n    </tr>\n    <tr>\n      <th>154283</th>\n      <td>0.0</td>\n      <td>15.0</td>\n      <td>2015-01-22</td>\n      <td>Reakktor Studios</td>\n      <td>0.0</td>\n      <td>1</td>\n      <td>FRAG LIKE IT'S 1999TOXIKK™ plays as if today's...</td>\n      <td>global</td>\n      <td>0.0</td>\n      <td>0a4abc7e-3b55-468f-a9be-140cefce091c</td>\n      <td>...</td>\n      <td>Action Games|FPS|Vehicle Combat|Shooter</td>\n      <td>steam</td>\n      <td>global</td>\n      <td>2015-12-13</td>\n      <td>TOXIKK</td>\n      <td>0.0</td>\n      <td>2016-09-11</td>\n      <td>7.407318</td>\n      <td>1244943.0</td>\n      <td>1244943.0</td>\n    </tr>\n    <tr>\n      <th>154284</th>\n      <td>0.0</td>\n      <td>15.0</td>\n      <td>2019-09-05</td>\n      <td>Little Green Men Games</td>\n      <td>0.0</td>\n      <td>1</td>\n      <td>Step into the laid-back shoes of captain Jonat...</td>\n      <td>global</td>\n      <td>30.0</td>\n      <td>a5cafe3c-d4be-11ec-9bb0-525400d129b6</td>\n      <td>...</td>\n      <td>Action|Simulation|Sci-fi|RPG Games|RPG|Strategy</td>\n      <td>steam</td>\n      <td>global</td>\n      <td>2020-04-17</td>\n      <td>Starpoint Gemini 3</td>\n      <td>600.0</td>\n      <td>2020-11-06</td>\n      <td>5.370638</td>\n      <td>1079021.0</td>\n      <td>1079021.0</td>\n    </tr>\n    <tr>\n      <th>154285</th>\n      <td>0.0</td>\n      <td>15.0</td>\n      <td>2017-04-19</td>\n      <td>Angry Mob Games</td>\n      <td>0.0</td>\n      <td>1</td>\n      <td>A new challenger has appeared in the platform ...</td>\n      <td>global</td>\n      <td>0.0</td>\n      <td>d470dc9c-c6b8-8ce7-379b-a44140af1998</td>\n      <td>...</td>\n      <td>Indie|Arcade|Indie Games|2D Fighting|Fighting</td>\n      <td>steam</td>\n      <td>global</td>\n      <td>2017-08-25</td>\n      <td>Brawlout</td>\n      <td>0.0</td>\n      <td>2018-08-21</td>\n      <td>3.526361</td>\n      <td>79199.0</td>\n      <td>79199.0</td>\n    </tr>\n    <tr>\n      <th>154286</th>\n      <td>0.0</td>\n      <td>15.0</td>\n      <td>2015-12-08</td>\n      <td>Terminal Press</td>\n      <td>0.0</td>\n      <td>1</td>\n      <td>Death Goat is a bloody arcade shooter featurin...</td>\n      <td>global</td>\n      <td>0.0</td>\n      <td>115c6832-d4c1-11ec-9bb0-525400d129b6</td>\n      <td>...</td>\n      <td>Action Games|Indie</td>\n      <td>steam</td>\n      <td>global</td>\n      <td>2016-02-07</td>\n      <td>Death Goat</td>\n      <td>0.0</td>\n      <td>2016-06-08</td>\n      <td>5.332719</td>\n      <td>8402.0</td>\n      <td>8402.0</td>\n    </tr>\n    <tr>\n      <th>154287</th>\n      <td>0.0</td>\n      <td>15.0</td>\n      <td>2016-04-29</td>\n      <td>Coronado Games</td>\n      <td>0.0</td>\n      <td>1</td>\n      <td>Starship Corporation is a starship-building si...</td>\n      <td>global</td>\n      <td>0.0</td>\n      <td>ff4ffabf-aecc-4d0c-9a28-464ad0920397</td>\n      <td>...</td>\n      <td>Simulation|Strategy|Indie Games</td>\n      <td>steam</td>\n      <td>global</td>\n      <td>2016-07-02</td>\n      <td>Starship Corporation</td>\n      <td>0.0</td>\n      <td>2018-05-03</td>\n      <td>0.000000</td>\n      <td>76018.0</td>\n      <td>2176198.0</td>\n    </tr>\n  </tbody>\n</table>\n<p>154288 rows × 29 columns</p>\n</div>"
     },
     "execution_count": 5,
     "metadata": {},
     "output_type": "execute_result"
    }
   ],
   "source": [
    "df = pd.read_excel(\"../../data/train.xlsx\")\n",
    "df"
   ]
  },
  {
   "cell_type": "code",
   "execution_count": 6,
   "metadata": {
    "collapsed": false,
    "ExecuteTime": {
     "end_time": "2024-07-08T03:19:16.246773Z",
     "start_time": "2024-07-08T03:19:16.238807Z"
    }
   },
   "outputs": [
    {
     "data": {
      "text/plain": "154288"
     },
     "execution_count": 6,
     "metadata": {},
     "output_type": "execute_result"
    }
   ],
   "source": [
    "\n",
    "# How many records in train dataset\n",
    "len(df)"
   ]
  },
  {
   "cell_type": "code",
   "execution_count": 7,
   "metadata": {
    "collapsed": false,
    "ExecuteTime": {
     "end_time": "2024-07-08T03:19:16.276732Z",
     "start_time": "2024-07-08T03:19:16.247836Z"
    }
   },
   "outputs": [
    {
     "data": {
      "text/plain": "2246"
     },
     "execution_count": 7,
     "metadata": {},
     "output_type": "execute_result"
    }
   ],
   "source": [
    "# How many games\n",
    "len(df[\"edition_id\"].unique())"
   ]
  },
  {
   "cell_type": "code",
   "execution_count": 8,
   "metadata": {
    "collapsed": false,
    "ExecuteTime": {
     "end_time": "2024-07-08T03:19:18.746247Z",
     "start_time": "2024-07-08T03:19:16.279687Z"
    }
   },
   "outputs": [
    {
     "data": {
      "text/plain": "<Axes: >"
     },
     "execution_count": 8,
     "metadata": {},
     "output_type": "execute_result"
    },
    {
     "data": {
      "text/plain": "<Figure size 640x480 with 1 Axes>",
      "image/png": "[encoded data removed]"
     },
     "metadata": {},
     "output_type": "display_data"
    }
   ],
   "source": [
    "# How many records for each edition_id\n",
    "df.groupby(\"edition_id\").size().hist()"
   ]
  },
  {
   "cell_type": "code",
   "execution_count": 9,
   "metadata": {
    "collapsed": false,
    "ExecuteTime": {
     "end_time": "2024-07-08T03:19:18.753383Z",
     "start_time": "2024-07-08T03:19:18.748268Z"
    }
   },
   "outputs": [
    {
     "data": {
      "text/plain": "29"
     },
     "execution_count": 9,
     "metadata": {},
     "output_type": "execute_result"
    }
   ],
   "source": [
    "# How many features\n",
    "len(df.columns)"
   ]
  },
  {
   "cell_type": "code",
   "execution_count": 10,
   "metadata": {
    "collapsed": false,
    "ExecuteTime": {
     "end_time": "2024-07-08T03:19:18.765290Z",
     "start_time": "2024-07-08T03:19:18.755391Z"
    }
   },
   "outputs": [
    {
     "data": {
      "text/plain": "EA_acu                              float64\nEA_pcu                              float64\nEA_time                      datetime64[ns]\ndeveloper                            object\nfollowers_total                     float64\nis_release                            int64\ndescription                          object\nentity_region                        object\nEA_units_sold                       float64\ndeveloper_id                         object\ntag_list                             object\nis_EA                                 int64\npublisher_id                         object\nfirst_create_time            datetime64[ns]\nsub_genre                            object\nedition_id                           object\nwishlist_rank                       float64\ngenre                                object\npublisher                            object\nsteam_genre                          object\nentity_type                          object\nentity_country                       object\ndate                         datetime64[ns]\nentity_name                          object\nEA_revenue                          float64\nrelease_time                 datetime64[ns]\npheat                               float64\ndeveloper_revenue_p1_year           float64\npublisher_revenue_p1_year           float64\ndtype: object"
     },
     "execution_count": 10,
     "metadata": {},
     "output_type": "execute_result"
    }
   ],
   "source": [
    "# What are the features\n",
    "df.dtypes"
   ]
  },
  {
   "cell_type": "code",
   "execution_count": 11,
   "metadata": {
    "collapsed": false,
    "ExecuteTime": {
     "end_time": "2024-07-08T03:19:18.790960Z",
     "start_time": "2024-07-08T03:19:18.766300Z"
    }
   },
   "outputs": [
    {
     "name": "stderr",
     "output_type": "stream",
     "text": [
      "E:\\Powerdrain project\\spark_learning\\venv\\Lib\\site-packages\\numpy\\lib\\_function_base_impl.py:2922: RuntimeWarning: invalid value encountered in divide\n",
      "  c /= stddev[:, None]\n",
      "E:\\Powerdrain project\\spark_learning\\venv\\Lib\\site-packages\\numpy\\lib\\_function_base_impl.py:2923: RuntimeWarning: invalid value encountered in divide\n",
      "  c /= stddev[None, :]\n"
     ]
    },
    {
     "data": {
      "text/plain": "(np.float64(-0.6266641526546421),\n np.float64(nan),\n np.float64(0.20755954107926228),\n np.float64(0.24880439317839625))"
     },
     "execution_count": 11,
     "metadata": {},
     "output_type": "execute_result"
    }
   ],
   "source": [
    "# What feature could be very important (Y is pheat)\n",
    "df['wishlist_rank'].corr(df['pheat']), df['followers_total'].corr(df['pheat']), df['developer_revenue_p1_year'].corr(df['pheat']), df['publisher_revenue_p1_year'].corr(df['pheat'])"
   ]
  },
  {
   "cell_type": "code",
   "execution_count": 12,
   "metadata": {
    "collapsed": false,
    "ExecuteTime": {
     "end_time": "2024-07-08T03:19:18.999017Z",
     "start_time": "2024-07-08T03:19:18.791969Z"
    }
   },
   "outputs": [
    {
     "data": {
      "text/plain": "              EA_acu         EA_pcu                        EA_time  \\\ncount  137175.000000  137175.000000                         154288   \nmean        5.427837     248.193308  2017-11-19 15:32:14.771336960   \nmin         0.000000       0.000000            2014-01-01 00:00:00   \n25%         0.000000       1.000000            2015-11-20 00:00:00   \n50%         0.000000       4.000000            2017-05-16 00:00:00   \n75%         0.000000      32.000000            2019-12-23 00:00:00   \nmax     15410.000000   93097.000000            2022-05-31 00:00:00   \nstd       143.273486    1328.919779                            NaN   \n\n       followers_total  is_release  EA_units_sold     is_EA  \\\ncount         137175.0    154288.0  137175.000000  154288.0   \nmean               0.0         1.0     147.620295       1.0   \nmin                0.0         1.0       0.000000       1.0   \n25%                0.0         1.0       0.000000       1.0   \n50%                0.0         1.0       0.000000       1.0   \n75%                0.0         1.0      80.000000       1.0   \nmax                0.0         1.0  122379.000000       1.0   \nstd                0.0         0.0     981.209329       0.0   \n\n                   first_create_time  wishlist_rank  \\\ncount                         154288   17486.000000   \nmean   2017-10-23 05:16:31.558643712     505.170308   \nmin              2014-01-01 00:00:00       5.000000   \n25%              2015-11-20 00:00:00     216.250000   \n50%              2017-05-16 00:00:00     470.000000   \n75%              2019-12-23 00:00:00     793.000000   \nmax              2022-05-31 00:00:00    1326.000000   \nstd                              NaN     331.537413   \n\n                                date    EA_revenue  \\\ncount                         154288  1.371750e+05   \nmean   2018-10-19 10:21:58.407134208  1.982525e+03   \nmin              2014-01-01 00:00:00  0.000000e+00   \n25%              2017-02-21 00:00:00  0.000000e+00   \n50%              2018-09-11 00:00:00  0.000000e+00   \n75%              2020-10-12 00:00:00  6.120000e+02   \nmax              2022-05-31 00:00:00  5.873213e+06   \nstd                              NaN  2.833311e+04   \n\n                        release_time          pheat  \\\ncount                         154288  154288.000000   \nmean   2019-10-27 12:41:11.243389440       3.800845   \nmin              2014-01-16 00:00:00       0.000000   \n25%              2018-04-27 00:00:00       1.609438   \n50%              2020-04-06 00:00:00       3.637586   \n75%              2021-08-25 00:00:00       5.697093   \nmax              2022-06-01 00:00:00      11.797856   \nstd                              NaN       2.741338   \n\n       developer_revenue_p1_year  publisher_revenue_p1_year  \ncount               1.295560e+05               1.331050e+05  \nmean                1.465610e+06               4.466809e+06  \nmin                 0.000000e+00               0.000000e+00  \n25%                 1.031700e+04               1.555200e+04  \n50%                 6.327000e+04               1.057150e+05  \n75%                 3.336380e+05               9.741690e+05  \nmax                 3.083610e+08               4.409961e+08  \nstd                 1.051593e+07               2.203235e+07  ",
      "text/html": "<div>\n<style scoped>\n    .dataframe tbody tr th:only-of-type {\n        vertical-align: middle;\n    }\n\n    .dataframe tbody tr th {\n        vertical-align: top;\n    }\n\n    .dataframe thead th {\n        text-align: right;\n    }\n</style>\n<table border=\"1\" class=\"dataframe\">\n  <thead>\n    <tr style=\"text-align: right;\">\n      <th></th>\n      <th>EA_acu</th>\n      <th>EA_pcu</th>\n      <th>EA_time</th>\n      <th>followers_total</th>\n      <th>is_release</th>\n      <th>EA_units_sold</th>\n      <th>is_EA</th>\n      <th>first_create_time</th>\n      <th>wishlist_rank</th>\n      <th>date</th>\n      <th>EA_revenue</th>\n      <th>release_time</th>\n      <th>pheat</th>\n      <th>developer_revenue_p1_year</th>\n      <th>publisher_revenue_p1_year</th>\n    </tr>\n  </thead>\n  <tbody>\n    <tr>\n      <th>count</th>\n      <td>137175.000000</td>\n      <td>137175.000000</td>\n      <td>154288</td>\n      <td>137175.0</td>\n      <td>154288.0</td>\n      <td>137175.000000</td>\n      <td>154288.0</td>\n      <td>154288</td>\n      <td>17486.000000</td>\n      <td>154288</td>\n      <td>1.371750e+05</td>\n      <td>154288</td>\n      <td>154288.000000</td>\n      <td>1.295560e+05</td>\n      <td>1.331050e+05</td>\n    </tr>\n    <tr>\n      <th>mean</th>\n      <td>5.427837</td>\n      <td>248.193308</td>\n      <td>2017-11-19 15:32:14.771336960</td>\n      <td>0.0</td>\n      <td>1.0</td>\n      <td>147.620295</td>\n      <td>1.0</td>\n      <td>2017-10-23 05:16:31.558643712</td>\n      <td>505.170308</td>\n      <td>2018-10-19 10:21:58.407134208</td>\n      <td>1.982525e+03</td>\n      <td>2019-10-27 12:41:11.243389440</td>\n      <td>3.800845</td>\n      <td>1.465610e+06</td>\n      <td>4.466809e+06</td>\n    </tr>\n    <tr>\n      <th>min</th>\n      <td>0.000000</td>\n      <td>0.000000</td>\n      <td>2014-01-01 00:00:00</td>\n      <td>0.0</td>\n      <td>1.0</td>\n      <td>0.000000</td>\n      <td>1.0</td>\n      <td>2014-01-01 00:00:00</td>\n      <td>5.000000</td>\n      <td>2014-01-01 00:00:00</td>\n      <td>0.000000e+00</td>\n      <td>2014-01-16 00:00:00</td>\n      <td>0.000000</td>\n      <td>0.000000e+00</td>\n      <td>0.000000e+00</td>\n    </tr>\n    <tr>\n      <th>25%</th>\n      <td>0.000000</td>\n      <td>1.000000</td>\n      <td>2015-11-20 00:00:00</td>\n      <td>0.0</td>\n      <td>1.0</td>\n      <td>0.000000</td>\n      <td>1.0</td>\n      <td>2015-11-20 00:00:00</td>\n      <td>216.250000</td>\n      <td>2017-02-21 00:00:00</td>\n      <td>0.000000e+00</td>\n      <td>2018-04-27 00:00:00</td>\n      <td>1.609438</td>\n      <td>1.031700e+04</td>\n      <td>1.555200e+04</td>\n    </tr>\n    <tr>\n      <th>50%</th>\n      <td>0.000000</td>\n      <td>4.000000</td>\n      <td>2017-05-16 00:00:00</td>\n      <td>0.0</td>\n      <td>1.0</td>\n      <td>0.000000</td>\n      <td>1.0</td>\n      <td>2017-05-16 00:00:00</td>\n      <td>470.000000</td>\n      <td>2018-09-11 00:00:00</td>\n      <td>0.000000e+00</td>\n      <td>2020-04-06 00:00:00</td>\n      <td>3.637586</td>\n      <td>6.327000e+04</td>\n      <td>1.057150e+05</td>\n    </tr>\n    <tr>\n      <th>75%</th>\n      <td>0.000000</td>\n      <td>32.000000</td>\n      <td>2019-12-23 00:00:00</td>\n      <td>0.0</td>\n      <td>1.0</td>\n      <td>80.000000</td>\n      <td>1.0</td>\n      <td>2019-12-23 00:00:00</td>\n      <td>793.000000</td>\n      <td>2020-10-12 00:00:00</td>\n      <td>6.120000e+02</td>\n      <td>2021-08-25 00:00:00</td>\n      <td>5.697093</td>\n      <td>3.336380e+05</td>\n      <td>9.741690e+05</td>\n    </tr>\n    <tr>\n      <th>max</th>\n      <td>15410.000000</td>\n      <td>93097.000000</td>\n      <td>2022-05-31 00:00:00</td>\n      <td>0.0</td>\n      <td>1.0</td>\n      <td>122379.000000</td>\n      <td>1.0</td>\n      <td>2022-05-31 00:00:00</td>\n      <td>1326.000000</td>\n      <td>2022-05-31 00:00:00</td>\n      <td>5.873213e+06</td>\n      <td>2022-06-01 00:00:00</td>\n      <td>11.797856</td>\n      <td>3.083610e+08</td>\n      <td>4.409961e+08</td>\n    </tr>\n    <tr>\n      <th>std</th>\n      <td>143.273486</td>\n      <td>1328.919779</td>\n      <td>NaN</td>\n      <td>0.0</td>\n      <td>0.0</td>\n      <td>981.209329</td>\n      <td>0.0</td>\n      <td>NaN</td>\n      <td>331.537413</td>\n      <td>NaN</td>\n      <td>2.833311e+04</td>\n      <td>NaN</td>\n      <td>2.741338</td>\n      <td>1.051593e+07</td>\n      <td>2.203235e+07</td>\n    </tr>\n  </tbody>\n</table>\n</div>"
     },
     "execution_count": 12,
     "metadata": {},
     "output_type": "execute_result"
    }
   ],
   "source": [
    "# Quickly understand the distribution (only numerical features)\n",
    "df.describe()"
   ]
  },
  {
   "cell_type": "code",
   "execution_count": 12,
   "metadata": {
    "ExecuteTime": {
     "end_time": "2024-07-08T03:19:19.010599Z",
     "start_time": "2024-07-08T03:19:19.007551Z"
    }
   },
   "outputs": [],
   "source": []
  }
 ],
 "metadata": {
  "kernelspec": {
   "display_name": "Python 3",
   "language": "python",
   "name": "python3"
  },
  "language_info": {
   "codemirror_mode": {
    "name": "ipython",
    "version": 3
   },
   "file_extension": ".py",
   "mimetype": "text/x-python",
   "name": "python",
   "nbconvert_exporter": "python",
   "pygments_lexer": "ipython3",
   "version": "3.9.16"
  }
 },
 "nbformat": 4,
 "nbformat_minor": 0
}
